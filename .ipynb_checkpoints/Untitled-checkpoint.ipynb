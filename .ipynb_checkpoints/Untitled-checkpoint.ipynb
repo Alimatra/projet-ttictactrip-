{
 "cells": [
  {
   "cell_type": "code",
   "execution_count": 2,
   "id": "9aeba390",
   "metadata": {},
   "outputs": [],
   "source": [
    "import pandas as pd\n",
    "import matplotlib.pyplot as plt"
   ]
  },
  {
   "cell_type": "markdown",
   "id": "9630c476",
   "metadata": {},
   "source": [
    "Tictactrip est une plateforme en ligne pour la recherche et la réservation de voyages en Europe, proposant des billets de train, de bus et de covoiturage. Elle permet de comparer les prix et horaires des différents moyens de transport pour le même itinéraire et de réserver son billet directement sur le site.\n",
    "\n",
    "Le but de ce projet est d'extraire des infos intéressantes type prix min, moyen et max mais durée min, max, moyenne par trajet\n",
    "ou meme les différence de prix moyen et durée selon le train, le bus et le covoiturage selon la distance du trajet afin d'obtenir une prediction de prix . "
   ]
  },
  {
   "cell_type": "code",
   "execution_count": 6,
   "id": "061efaa2",
   "metadata": {},
   "outputs": [],
   "source": [
    "df = pd.read_csv(\"ticket_data.csv\")\n",
    "df1 = pd.read_csv(\"stations.csv\")\n",
    "df2 = pd.read_csv(\"providers.csv\")\n",
    "df3 = pd.read_csv(\"cities.csv\")"
   ]
  },
  {
   "cell_type": "code",
   "execution_count": 9,
   "id": "4a20c1d6",
   "metadata": {},
   "outputs": [
    {
     "name": "stdout",
     "output_type": "stream",
     "text": [
      "            id  company  o_station  d_station            departure_ts  \\\n",
      "0      6795025     8385        NaN        NaN  2017-10-13 14:00:00+00   \n",
      "1      6795026        9       63.0     1044.0  2017-10-13 13:05:00+00   \n",
      "2      6795027     8377     5905.0     6495.0  2017-10-13 13:27:00+00   \n",
      "3      6795028     8377     5905.0     6495.0  2017-10-13 13:27:00+00   \n",
      "4      6795029     8381     5905.0     6495.0  2017-10-13 21:46:00+00   \n",
      "...        ...      ...        ...        ...                     ...   \n",
      "74163  6869182       13      279.0    10729.0  2017-10-27 02:30:00+00   \n",
      "74164  6869185        9      279.0      304.0  2017-10-27 07:00:00+00   \n",
      "74165  6869187     8371    10642.0      304.0  2017-10-27 08:30:00+00   \n",
      "74166  6869189       13      279.0      304.0  2017-10-27 13:25:00+00   \n",
      "74167  6869191     8371    10642.0    10729.0  2017-10-27 14:45:00+00   \n",
      "\n",
      "                   arrival_ts  price_in_cents                   search_ts  \\\n",
      "0      2017-10-13 20:10:00+00            4550  2017-10-01 00:13:31.327+00   \n",
      "1      2017-10-14 06:55:00+00            1450  2017-10-01 00:13:35.773+00   \n",
      "2      2017-10-14 21:24:00+00            7400  2017-10-01 00:13:40.212+00   \n",
      "3      2017-10-14 11:02:00+00           13500  2017-10-01 00:13:40.213+00   \n",
      "4      2017-10-14 19:32:00+00            7710  2017-10-01 00:13:40.213+00   \n",
      "...                       ...             ...                         ...   \n",
      "74163  2017-10-27 16:00:00+00            2590  2017-10-19 10:35:42.943+00   \n",
      "74164  2017-10-27 13:30:00+00            2700  2017-10-19 10:35:42.943+00   \n",
      "74165  2017-10-27 15:15:00+00            3000  2017-10-19 10:35:42.943+00   \n",
      "74166  2017-10-27 21:10:00+00            2880  2017-10-19 10:35:42.943+00   \n",
      "74167  2017-10-27 21:40:00+00            2000  2017-10-19 10:35:42.943+00   \n",
      "\n",
      "           middle_stations other_companies  o_city  d_city  \n",
      "0                      NaN             NaN     611     542  \n",
      "1                {149,418}            {13}     611     542  \n",
      "2      {798,798,6794,6246}     {8377,8376}     611     542  \n",
      "3      {798,798,6794,6246}     {8377,8376}     611     542  \n",
      "4              {5983,5983}          {8380}     611     542  \n",
      "...                    ...             ...     ...     ...  \n",
      "74163            {408,408}          {8371}     628     562  \n",
      "74164          {1105,1105}             {9}     628     562  \n",
      "74165          {1105,1105}             {9}     628     562  \n",
      "74166            {863,863}            {13}     628     562  \n",
      "74167            {863,863}          {8371}     628     562  \n",
      "\n",
      "[74168 rows x 12 columns]\n",
      "Index(['id', 'company', 'o_station', 'd_station', 'departure_ts', 'arrival_ts',\n",
      "       'price_in_cents', 'search_ts', 'middle_stations', 'other_companies',\n",
      "       'o_city', 'd_city'],\n",
      "      dtype='object')\n",
      "(74168, 12)\n"
     ]
    }
   ],
   "source": [
    "print(df)\n",
    "print(df.columns)\n",
    "print(df.shape )"
   ]
  },
  {
   "cell_type": "markdown",
   "id": "bbdfb344",
   "metadata": {},
   "source": [
    "Dans *tickets_data* on a 74168 lignes qui representent des billets de train et 12 variables : \n",
    "\n",
    " -*id* : un identifiant unique pour chaque  billet\n",
    " \n",
    " -*company* : la compagnie de voyage proposant le billet\n",
    "  \n",
    "  -*o_station* : station de départ \n",
    "  \n",
    "  -*d_station* : station d'arrivée\n",
    "  \n",
    "  -*departure_ts* : heure de départ\n",
    "  \n",
    "  -*arrival_t*  : heure d'arrivée \n",
    "  \n",
    "  -*price_in_cents* :  le prix du billet en centimes\n",
    "  \n",
    "  -*search_ts* :  l'heure à laquelle la recherche a été effectuée pour cette proposition de billet\n",
    "  \n",
    "  -*middle_stations* : une liste de stations intermédiaires entre la station de départ et la station d'arrivée\n",
    " \n",
    " -*other_companies* : une liste d'autres compagnies de voyage proposant des trajets similaires\n",
    " \n",
    " -*o_city* : la ville de départ du voyage\n",
    " \n",
    " -*d_city* : la ville d'arrivée du voyage"
   ]
  },
  {
   "cell_type": "code",
   "execution_count": 10,
   "id": "fb0be990",
   "metadata": {},
   "outputs": [
    {
     "name": "stdout",
     "output_type": "stream",
     "text": [
      "id                     0\n",
      "company                0\n",
      "o_station          41441\n",
      "d_station          41441\n",
      "departure_ts           0\n",
      "arrival_ts             0\n",
      "price_in_cents         0\n",
      "search_ts              0\n",
      "middle_stations    41441\n",
      "other_companies    41441\n",
      "o_city                 0\n",
      "d_city                 0\n",
      "dtype: int64\n"
     ]
    }
   ],
   "source": [
    "print(df.isnull().sum())\n"
   ]
  },
  {
   "cell_type": "code",
   "execution_count": 14,
   "id": "45cb7ac7",
   "metadata": {},
   "outputs": [
    {
     "name": "stdout",
     "output_type": "stream",
     "text": [
      "id                       0\n",
      "company_id               0\n",
      "provider_id             14\n",
      "name                     0\n",
      "fullname                 0\n",
      "has_wifi                 3\n",
      "has_plug                 3\n",
      "has_adjustable_seats     3\n",
      "has_bicycle              3\n",
      "transport_type           0\n",
      "dtype: int64\n"
     ]
    }
   ],
   "source": [
    "print(df2.isnull().sum())\n"
   ]
  }
 ],
 "metadata": {
  "kernelspec": {
   "display_name": "Python 3 (ipykernel)",
   "language": "python",
   "name": "python3"
  },
  "language_info": {
   "codemirror_mode": {
    "name": "ipython",
    "version": 3
   },
   "file_extension": ".py",
   "mimetype": "text/x-python",
   "name": "python",
   "nbconvert_exporter": "python",
   "pygments_lexer": "ipython3",
   "version": "3.9.12"
  }
 },
 "nbformat": 4,
 "nbformat_minor": 5
}
